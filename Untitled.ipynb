{
 "cells": [
  {
   "cell_type": "code",
   "execution_count": 6,
   "id": "communist-edgar",
   "metadata": {},
   "outputs": [
    {
     "name": "stdout",
     "output_type": "stream",
     "text": [
      "Thu Feb  4 17:14:31 2021\n",
      "Thu Feb  4 17:14:32 2021\n",
      "Thu Feb  4 17:14:33 2021\n",
      "Thu Feb  4 17:14:34 2021\n",
      "Thu Feb  4 17:14:35 2021\n",
      "Thu Feb  4 17:14:36 2021\n",
      "Program killed: running cleanup code\n"
     ]
    }
   ],
   "source": [
    "import threading, time, signal\n",
    "\n",
    "from datetime import timedelta\n",
    "\n",
    "WAIT_TIME_SECONDS = 1\n",
    "\n",
    "class ProgramKilled(Exception):\n",
    "    pass\n",
    "\n",
    "def foo():\n",
    "    print (time.ctime())\n",
    "    \n",
    "def signal_handler(signum, frame):\n",
    "    raise ProgramKilled\n",
    "    \n",
    "class Job(threading.Thread):\n",
    "    def __init__(self, interval, execute, *args, **kwargs):\n",
    "        threading.Thread.__init__(self)\n",
    "        self.daemon = False\n",
    "        self.stopped = threading.Event()\n",
    "        self.interval = interval\n",
    "        self.execute = execute\n",
    "        self.args = args\n",
    "        self.kwargs = kwargs\n",
    "        \n",
    "    def stop(self):\n",
    "                self.stopped.set()\n",
    "                self.join()\n",
    "    def run(self):\n",
    "            while not self.stopped.wait(self.interval.total_seconds()):\n",
    "                self.execute(*self.args, **self.kwargs)\n",
    "            \n",
    "if __name__ == \"__main__\":\n",
    "    signal.signal(signal.SIGTERM, signal_handler)\n",
    "    signal.signal(signal.SIGINT, signal_handler)\n",
    "    job = Job(interval=timedelta(seconds=WAIT_TIME_SECONDS), execute=foo)\n",
    "    job.start()\n",
    "    \n",
    "    while True:\n",
    "        try:\n",
    "            time.sleep(1)\n",
    "        except ProgramKilled:\n",
    "            print (\"Program killed: running cleanup code\")\n",
    "            job.stop()\n",
    "            break"
   ]
  },
  {
   "cell_type": "code",
   "execution_count": 2,
   "id": "romantic-oakland",
   "metadata": {},
   "outputs": [
    {
     "name": "stdout",
     "output_type": "stream",
     "text": [
      "1\n",
      "1\n",
      "I have encountered the signal KILL.\n",
      "CTRL+C was pressed.  Do anything here before the process exists\n"
     ]
    }
   ],
   "source": [
    "import signal,time\n",
    "class ProgramKilled(Exception):\n",
    "    pass\n",
    "\n",
    "def my_custom_handler(signum, stack_frame):\n",
    "    print('I have encountered the signal KILL.')\n",
    "    print('CTRL+C was pressed.  Do anything here before the process exists')\n",
    "    raise ProgramKilled\n",
    "signal.signal(signal.SIGINT, my_custom_handler)\n",
    "\n",
    "i=0\n",
    "while i<10:\n",
    "    try:\n",
    "        print(1)\n",
    "        time.sleep(1)\n",
    "        i+=1\n",
    "    except ProgramKilled:\n",
    "        break"
   ]
  },
  {
   "cell_type": "code",
   "execution_count": 32,
   "id": "overall-berry",
   "metadata": {},
   "outputs": [],
   "source": [
    "import ctypes\n",
    "import os\n",
    "import winreg as wreg\n",
    "\n",
    "if os.name == 'nt':\n",
    "    if not ctypes.windll.shell32.IsUserAnAdmin():\n",
    "        print(\"\\n Admin privilages needed!\\n\")\n",
    "key= wreg.CreateKey(wreg.HKEY_CURRENT_USER,\"SOFTWARE\\\\Microsoft\\\\Windows\\\\CurrentVersion\\\\Policies\\\\Explorer\")\n",
    "wreg.SetValueEx(key,\"DisallowRun\",1,wreg.REG_DWORD,0)\n"
   ]
  },
  {
   "cell_type": "code",
   "execution_count": 26,
   "id": "judicial-shell",
   "metadata": {},
   "outputs": [],
   "source": [
    "key= wreg.CreateKey(wreg.HKEY_CURRENT_USER,\"SOFTWARE\\\\Microsoft\\\\Windows\\\\CurrentVersion\\\\Policies\\\\Explorer\\\\DisallowRun\")\n",
    "wreg.SetValueEx(key,\"1\",0,wreg.REG_SZ,\"msedge.exe\")"
   ]
  },
  {
   "cell_type": "code",
   "execution_count": 33,
   "id": "emotional-norway",
   "metadata": {},
   "outputs": [
    {
     "data": {
      "text/plain": [
       "0"
      ]
     },
     "execution_count": 33,
     "metadata": {},
     "output_type": "execute_result"
    }
   ],
   "source": [
    "from subprocess import call\n",
    "import time\n",
    "\n",
    "call('taskkill /F /IM explorer.exe & start explorer', shell=True)\n"
   ]
  },
  {
   "cell_type": "code",
   "execution_count": 2,
   "id": "juvenile-feature",
   "metadata": {},
   "outputs": [
    {
     "name": "stdout",
     "output_type": "stream",
     "text": [
      "hello world\n"
     ]
    }
   ],
   "source": [
    "from datetime import datetime, timedelta\n",
    "from threading import Timer\n",
    "\n",
    "x=datetime.today()\n",
    "y = x.replace(day=x.day, hour=13, minute=45, second=0, microsecond=0) #+ timedelta(days=1)\n",
    "delta_t=y-x\n",
    "\n",
    "secs=delta_t.total_seconds()\n",
    "\n",
    "def hello_world():\n",
    "    print(\"hello world\")\n",
    "    #...\n",
    "\n",
    "t = Timer(secs, hello_world)\n",
    "t.start()\n"
   ]
  },
  {
   "cell_type": "code",
   "execution_count": null,
   "id": "scheduled-light",
   "metadata": {},
   "outputs": [],
   "source": [
    "def sleepUntil(self, hour, minute):\n",
    "    t = datetime.datetime.today()\n",
    "    future = datetime.datetime(t.year, t.month, t.day, hour, minute)\n",
    "    if t.timestamp() > future.timestamp():\n",
    "        future += datetime.timedelta(days=1)\n",
    "    time.sleep((future-t).total_seconds())\n",
    "import time\n",
    "import datetime\n",
    "\n",
    "# if for some reason this script is still running\n",
    "# after a year, we'll stop after 365 days\n",
    "for i in xrange(0,365):\n",
    "    # sleep until 2AM\n",
    "    t = datetime.datetime.today()\n",
    "    future = datetime.datetime(t.year,t.month,t.day,2,0)\n",
    "    if t.hour >= 2:\n",
    "        future += datetime.timedelta(days=1)\n",
    "    time.sleep((future-t).total_seconds())\n",
    "    \n",
    "    # do 2AM stuff"
   ]
  },
  {
   "cell_type": "code",
   "execution_count": 1,
   "id": "dense-encyclopedia",
   "metadata": {},
   "outputs": [
    {
     "name": "stdout",
     "output_type": "stream",
     "text": [
      "2021-02-06 03:52:00\n"
     ]
    }
   ],
   "source": [
    "import time\n",
    "import datetime\n",
    "t = datetime.datetime.today()\n",
    "future = datetime.datetime(t.year, t.month, t.day, 3, 52)\n",
    "if t.timestamp() > future.timestamp():\n",
    "    future += datetime.timedelta(days=1)\n",
    "#time.sleep((future-t).total_seconds())\n",
    "print(future)"
   ]
  },
  {
   "cell_type": "code",
   "execution_count": 37,
   "id": "human-truth",
   "metadata": {},
   "outputs": [
    {
     "name": "stdout",
     "output_type": "stream",
     "text": [
      "hello\n"
     ]
    }
   ],
   "source": [
    "t = datetime.datetime(2020,5,12,14,1)#.today()\n",
    "future = datetime.datetime(t.year, t.month, t.day, 8, 10)\n",
    "if t.weekday() == 5:\n",
    "    future += datetime.timedelta(days=2)\n",
    "elif t.weekday() == 6:\n",
    "    future += datetime.timedelta(days=1)\n",
    "elif t.timestamp() > future.timestamp():\n",
    "    future += datetime.timedelta(days=1)\n",
    "print(\"It's blocked!\")\n",
    "time.sleep((future-t).total_seconds())\n"
   ]
  },
  {
   "cell_type": "code",
   "execution_count": 55,
   "id": "controversial-coordination",
   "metadata": {},
   "outputs": [
    {
     "data": {
      "text/plain": [
       "35"
      ]
     },
     "execution_count": 55,
     "metadata": {},
     "output_type": "execute_result"
    }
   ],
   "source": [
    "import ctypes\n",
    "import os\n",
    "import winreg as wreg\n",
    "import time\n",
    "import datetime\n",
    "from subprocess import call\n",
    "\n",
    "def block():\n",
    "    for i in range(0,365):\n",
    "        t = datetime.datetime.today()\n",
    "        future = datetime.datetime(t.year, t.month, t.day, 8, 10)\n",
    "        if t.weekday() == 5:\n",
    "            future += datetime.timedelta(days=2)\n",
    "        elif t.weekday() == 6:\n",
    "            future += datetime.timedelta(days=1)\n",
    "        elif t.timestamp() > future.timestamp():\n",
    "            future += datetime.timedelta(days=1)\n",
    "        if os.name == 'nt':\n",
    "            if not ctypes.windll.shell32.IsUserAnAdmin():\n",
    "                print(\"\\n Admin privilages needed!\\n\")\n",
    "        key= wreg.CreateKey(wreg.HKEY_CURRENT_USER,\"SOFTWARE\\\\Microsoft\\\\Windows\\\\CurrentVersion\\\\Policies\\\\Explorer\")\n",
    "        wreg.SetValueEx(key,\"DisallowRun\",0,wreg.REG_DWORD,1)\n",
    "        call('taskkill /F /IM explorer.exe & start explorer', shell=True)\n",
    "        time.sleep((future-t).total_seconds())\n",
    "    return None\n",
    "\n",
    "def unblock():\n",
    "    for i in range(0,365):\n",
    "        t = datetime.datetime.today()\n",
    "        future = datetime.datetime(t.year, t.month, t.day, 13, 0)\n",
    "        if t.weekday() == 5:\n",
    "            future += datetime.timedelta(days=2)\n",
    "        elif t.weekday() == 6:\n",
    "            future += datetime.timedelta(days=1)\n",
    "        elif t.timestamp() > future.timestamp():\n",
    "            future += datetime.timedelta(days=1)\n",
    "        if os.name == 'nt':\n",
    "            if not ctypes.windll.shell32.IsUserAnAdmin():\n",
    "                print(\"\\n Admin privilages needed!\\n\")\n",
    "        key= wreg.CreateKey(wreg.HKEY_CURRENT_USER,\"SOFTWARE\\\\Microsoft\\\\Windows\\\\CurrentVersion\\\\Policies\\\\Explorer\")\n",
    "        wreg.SetValueEx(key,\"DisallowRun\",0,wreg.REG_DWORD,0)\n",
    "        call('taskkill /F /IM explorer.exe & start explorer', shell=True)\n",
    "        time.sleep((future-t).total_seconds())\n",
    "    return None\n",
    "\n",
    "def set_values(l):\n",
    "    if os.name == 'nt':\n",
    "        if not ctypes.windll.shell32.IsUserAnAdmin():\n",
    "            print(\"\\n Admin privilages needed!\\n\")\n",
    "    key= wreg.CreateKey(wreg.HKEY_CURRENT_USER,\"SOFTWARE\\\\Microsoft\\\\Windows\\\\CurrentVersion\\\\Policies\\\\Explorer\")\n",
    "    wreg.SetValueEx(key,\"DisallowRun\",0,wreg.REG_DWORD,0)\n",
    "    key= wreg.CreateKey(wreg.HKEY_CURRENT_USER,\"SOFTWARE\\\\Microsoft\\\\Windows\\\\CurrentVersion\\\\Policies\\\\Explorer\\\\DisallowRun\")\n",
    "    for i,j in enumerate(l):\n",
    "        wreg.SetValueEx(key,str(i),0,wreg.REG_SZ,j)\n",
    "    return None\n",
    "\n",
    "if __name__ == \"__main__\":\n",
    "    list_to_be_passed = ['msedge.exe','uTorrent.exe']\n",
    "    set_values(list_to_be_passed)\n",
    "    Thread(target = block).start()\n",
    "    Thread(target = unblock).start()"
   ]
  },
  {
   "cell_type": "code",
   "execution_count": 84,
   "id": "enabling-blogger",
   "metadata": {},
   "outputs": [
    {
     "name": "stdout",
     "output_type": "stream",
     "text": [
      "0 A\n",
      "1 i\n",
      "2 j\n"
     ]
    }
   ],
   "source": [
    "import ctypes\n",
    "import os\n",
    "import winreg as wreg\n",
    "import time\n",
    "import datetime\n",
    "from subprocess import call\n",
    "\n",
    "def block():\n",
    "    for i in range(0,365):\n",
    "        t = datetime.datetime.today()\n",
    "        future = datetime.datetime(t.year, t.month, t.day, 15, 15)\n",
    "        if t.weekday() == 5:\n",
    "            future += datetime.timedelta(days=2)\n",
    "        elif t.weekday() == 6:\n",
    "            future += datetime.timedelta(days=1)\n",
    "        elif t.timestamp() > future.timestamp():\n",
    "            future += datetime.timedelta(days=1)\n",
    "        if os.name == 'nt':\n",
    "            if not ctypes.windll.shell32.IsUserAnAdmin():\n",
    "                print(\"\\n Admin privilages needed!\\n\")\n",
    "        key= wreg.CreateKey(wreg.HKEY_CURRENT_USER,\"SOFTWARE\\\\Microsoft\\\\Windows\\\\CurrentVersion\\\\Policies\\\\Explorer\")\n",
    "        wreg.SetValueEx(key,\"DisallowRun\",0,wreg.REG_DWORD,1)\n",
    "        call('taskkill /F /IM explorer.exe & start explorer', shell=True)\n",
    "        time.sleep((future-t).total_seconds())\n",
    "    return None\n",
    "\n",
    "def unblock():\n",
    "    for i in range(0,365):\n",
    "        t = datetime.datetime.today()\n",
    "        future = datetime.datetime(t.year, t.month, t.day, 15, 17)\n",
    "        if t.weekday() == 5:\n",
    "            future += datetime.timedelta(days=2)\n",
    "        elif t.weekday() == 6:\n",
    "            future += datetime.timedelta(days=1)\n",
    "        elif t.timestamp() > future.timestamp():\n",
    "            future += datetime.timedelta(days=1)\n",
    "        if os.name == 'nt':\n",
    "            if not ctypes.windll.shell32.IsUserAnAdmin():\n",
    "                print(\"\\n Admin privilages needed!\\n\")\n",
    "        key= wreg.CreateKey(wreg.HKEY_CURRENT_USER,\"SOFTWARE\\\\Microsoft\\\\Windows\\\\CurrentVersion\\\\Policies\\\\Explorer\")\n",
    "        wreg.SetValueEx(key,\"DisallowRun\",0,wreg.REG_DWORD,0)\n",
    "        call('taskkill /F /IM explorer.exe & start explorer', shell=True)\n",
    "        time.sleep((future-t).total_seconds())\n",
    "    return None\n",
    "\n",
    "def set_values(l):\n",
    "    if os.name == 'nt':\n",
    "        if not ctypes.windll.shell32.IsUserAnAdmin():\n",
    "            print(\"\\n Admin privilages needed!\\n\")\n",
    "    key= wreg.CreateKey(wreg.HKEY_CURRENT_USER,\"SOFTWARE\\\\Microsoft\\\\Windows\\\\CurrentVersion\\\\Policies\\\\Explorer\")\n",
    "    wreg.SetValueEx(key,\"DisallowRun\",0,wreg.REG_DWORD,0)\n",
    "    key= wreg.CreateKey(wreg.HKEY_CURRENT_USER,\"SOFTWARE\\\\Microsoft\\\\Windows\\\\CurrentVersion\\\\Policies\\\\Explorer\\\\DisallowRun\")\n",
    "    for i,j in enumerate(l):\n",
    "        wreg.SetValueEx(key,str(i),0,wreg.REG_SZ,j)\n",
    "    return None\n",
    "\n",
    "if __name__ == \"__main__\":\n",
    "    list_to_be_passed = ['msedge.exe','uTorrent.exe']\n",
    "    set_values(list_to_be_passed)\n",
    "    Thread(target = block).start()\n",
    "    Thread(target = unblock).start()"
   ]
  },
  {
   "cell_type": "code",
   "execution_count": 80,
   "id": "obvious-crystal",
   "metadata": {},
   "outputs": [
    {
     "name": "stdout",
     "output_type": "stream",
     "text": [
      "It's blocked!\n",
      "--- 7.01047945022583 seconds ---\n",
      "It's blocked!\n"
     ]
    },
    {
     "ename": "KeyboardInterrupt",
     "evalue": "",
     "output_type": "error",
     "traceback": [
      "\u001b[1;31m---------------------------------------------------------------------------\u001b[0m",
      "\u001b[1;31mKeyboardInterrupt\u001b[0m                         Traceback (most recent call last)",
      "\u001b[1;32m<ipython-input-80-fd6039dfec04>\u001b[0m in \u001b[0;36m<module>\u001b[1;34m\u001b[0m\n\u001b[0;32m     10\u001b[0m         \u001b[0mfuture\u001b[0m \u001b[1;33m+=\u001b[0m \u001b[0mdatetime\u001b[0m\u001b[1;33m.\u001b[0m\u001b[0mtimedelta\u001b[0m\u001b[1;33m(\u001b[0m\u001b[0mseconds\u001b[0m\u001b[1;33m=\u001b[0m\u001b[1;36m4\u001b[0m\u001b[1;33m)\u001b[0m\u001b[1;33m\u001b[0m\u001b[1;33m\u001b[0m\u001b[0m\n\u001b[0;32m     11\u001b[0m     \u001b[0mprint\u001b[0m\u001b[1;33m(\u001b[0m\u001b[1;34m\"It's blocked!\"\u001b[0m\u001b[1;33m)\u001b[0m\u001b[1;33m\u001b[0m\u001b[1;33m\u001b[0m\u001b[0m\n\u001b[1;32m---> 12\u001b[1;33m     \u001b[0mtime\u001b[0m\u001b[1;33m.\u001b[0m\u001b[0msleep\u001b[0m\u001b[1;33m(\u001b[0m\u001b[1;33m(\u001b[0m\u001b[0mfuture\u001b[0m\u001b[1;33m-\u001b[0m\u001b[0mt\u001b[0m\u001b[1;33m)\u001b[0m\u001b[1;33m.\u001b[0m\u001b[0mtotal_seconds\u001b[0m\u001b[1;33m(\u001b[0m\u001b[1;33m)\u001b[0m\u001b[1;33m)\u001b[0m\u001b[1;33m\u001b[0m\u001b[1;33m\u001b[0m\u001b[0m\n\u001b[0m\u001b[0;32m     13\u001b[0m     \u001b[0mprint\u001b[0m\u001b[1;33m(\u001b[0m\u001b[1;34m\"--- %s seconds ---\"\u001b[0m \u001b[1;33m%\u001b[0m \u001b[1;33m(\u001b[0m\u001b[0mtime\u001b[0m\u001b[1;33m.\u001b[0m\u001b[0mtime\u001b[0m\u001b[1;33m(\u001b[0m\u001b[1;33m)\u001b[0m \u001b[1;33m-\u001b[0m \u001b[0mstart_time\u001b[0m\u001b[1;33m)\u001b[0m\u001b[1;33m)\u001b[0m\u001b[1;33m\u001b[0m\u001b[1;33m\u001b[0m\u001b[0m\n\u001b[0;32m     14\u001b[0m     \u001b[1;31m#print(future)\u001b[0m\u001b[1;33m\u001b[0m\u001b[1;33m\u001b[0m\u001b[1;33m\u001b[0m\u001b[0m\n",
      "\u001b[1;31mKeyboardInterrupt\u001b[0m: "
     ]
    }
   ],
   "source": [
    "for i in range(0,365):\n",
    "    t = datetime.datetime.today()\n",
    "    start_time = time.time()\n",
    "    future = t + datetime.timedelta(seconds=3)\n",
    "    if t.weekday() == 4:\n",
    "        future += datetime.timedelta(seconds=4)\n",
    "    elif t.weekday() == 6:\n",
    "        future += datetime.timedelta(seconds=4)\n",
    "    elif t.timestamp() > future.timestamp():\n",
    "        future += datetime.timedelta(seconds=4)\n",
    "    print(\"It's blocked!\")\n",
    "    time.sleep((future-t).total_seconds())\n",
    "    print(\"--- %s seconds ---\" % (time.time() - start_time))\n",
    "    #print(future)"
   ]
  },
  {
   "cell_type": "code",
   "execution_count": null,
   "id": "nutritional-specialist",
   "metadata": {},
   "outputs": [],
   "source": [
    "import time\n",
    "\n",
    "main()\n",
    "print(\"--- %s seconds ---\" % (time.time() - start_time))"
   ]
  }
 ],
 "metadata": {
  "kernelspec": {
   "display_name": "Python 3",
   "language": "python",
   "name": "python3"
  },
  "language_info": {
   "codemirror_mode": {
    "name": "ipython",
    "version": 3
   },
   "file_extension": ".py",
   "mimetype": "text/x-python",
   "name": "python",
   "nbconvert_exporter": "python",
   "pygments_lexer": "ipython3",
   "version": "3.8.5"
  }
 },
 "nbformat": 4,
 "nbformat_minor": 5
}
